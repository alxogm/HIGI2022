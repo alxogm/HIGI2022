{
  "nbformat": 4,
  "nbformat_minor": 0,
  "metadata": {
    "colab": {
      "provenance": [],
      "authorship_tag": "ABX9TyMAdrtA5Z8sO2g2eD7VodEN",
      "include_colab_link": true
    },
    "kernelspec": {
      "name": "python3",
      "display_name": "Python 3"
    },
    "language_info": {
      "name": "python"
    }
  },
  "cells": [
    {
      "cell_type": "markdown",
      "metadata": {
        "id": "view-in-github",
        "colab_type": "text"
      },
      "source": [
        "<a href=\"https://colab.research.google.com/github/alxogm/HIGI2022/blob/main/python/Fit_line.ipynb\" target=\"_parent\"><img src=\"https://colab.research.google.com/assets/colab-badge.svg\" alt=\"Open In Colab\"/></a>"
      ]
    },
    {
      "cell_type": "code",
      "execution_count": 164,
      "metadata": {
        "id": "XezdN8yVQbmW"
      },
      "outputs": [],
      "source": [
        "import numpy as np\n",
        "import matplotlib.pyplot as plt\n",
        "from scipy.optimize import minimize\n",
        "from scipy import stats\n"
      ]
    },
    {
      "cell_type": "code",
      "source": [
        "#Valores verdaderos de la pendiente y la ordenada al origen\n",
        "m_true = -0.9594\n",
        "b_true = 4.294"
      ],
      "metadata": {
        "id": "AxPRWTE5ZXBf"
      },
      "execution_count": 163,
      "outputs": []
    },
    {
      "cell_type": "code",
      "source": [
        "#Leemos los datos\n",
        "data=np.load(\"line.npy\")\n",
        "x=data[0]\n",
        "y=data[1]\n",
        "yerr=data[2]\n",
        "\n",
        "#x,y,yerr=np.load(\"line.npy\")"
      ],
      "metadata": {
        "id": "BPgg255lZjT5"
      },
      "execution_count": 154,
      "outputs": []
    },
    {
      "cell_type": "code",
      "source": [
        "a_fit, b_fit = np.polyfit(x,y, 1)"
      ],
      "metadata": {
        "id": "Xip3VZdKQigL"
      },
      "execution_count": 155,
      "outputs": []
    },
    {
      "cell_type": "code",
      "source": [
        "plt.errorbar(x,y,yerr, fmt='.')\n",
        "plt.plot(x,a_fit*x+b_fit)\n",
        "print(a_fit,b_fit)"
      ],
      "metadata": {
        "colab": {
          "base_uri": "https://localhost:8080/",
          "height": 302
        },
        "id": "D3uZCJM_RNi0",
        "outputId": "a2d3c1bb-3ce3-44ee-933b-816c71463f28"
      },
      "execution_count": 156,
      "outputs": [
        {
          "output_type": "stream",
          "name": "stdout",
          "text": [
            "-0.9581362220081967 4.274384273855281\n"
          ]
        },
        {
          "output_type": "display_data",
          "data": {
            "text/plain": [
              "<Figure size 432x288 with 1 Axes>"
            ],
            "image/png": "[encoded data removed]"
          },
          "metadata": {
            "needs_background": "light"
          }
        }
      ]
    },
    {
      "cell_type": "code",
      "source": [
        "a_reg,b_reg, r_value, p_value, std_err = stats.linregress(x,y)"
      ],
      "metadata": {
        "id": "ANiTnuC2RWtO"
      },
      "execution_count": 157,
      "outputs": []
    },
    {
      "cell_type": "code",
      "source": [
        "plt.errorbar(x,y,yerr, fmt='.')\n",
        "plt.plot(x,a_reg*x+b_reg)\n",
        "print(a_reg,b_reg)"
      ],
      "metadata": {
        "colab": {
          "base_uri": "https://localhost:8080/",
          "height": 302
        },
        "id": "Ua9_0looRyST",
        "outputId": "3d2717e4-ee10-454c-d0c9-ec1d6f6a8e5f"
      },
      "execution_count": 158,
      "outputs": [
        {
          "output_type": "stream",
          "name": "stdout",
          "text": [
            "-0.9581362220081964 4.27438427385528\n"
          ]
        },
        {
          "output_type": "display_data",
          "data": {
            "text/plain": [
              "<Figure size 432x288 with 1 Axes>"
            ],
            "image/png": "[encoded data removed]"
          },
          "metadata": {
            "needs_background": "light"
          }
        }
      ]
    },
    {
      "cell_type": "code",
      "source": [
        "\n",
        "def chi2(params):\n",
        "     a=params[0]\n",
        "     b=params[1] \n",
        "     ymodel=a*x+b\n",
        "     chi2=0.5*np.sum((y-ymodel)**2/yerr**2)\n",
        "     return  chi2"
      ],
      "metadata": {
        "id": "ZgcIlm7NTBl6"
      },
      "execution_count": 165,
      "outputs": []
    },
    {
      "cell_type": "code",
      "source": [
        "res = minimize(chi2, x0=[-0,0], options={'disp': True})\n",
        "a_op,b_op=res.x\n",
        "print(a_op,b_op)"
      ],
      "metadata": {
        "colab": {
          "base_uri": "https://localhost:8080/"
        },
        "id": "PH0lPgF5UKo0",
        "outputId": "5fdd884f-b6c4-48a3-cbf4-2cc48ceb2735"
      },
      "execution_count": 166,
      "outputs": [
        {
          "output_type": "stream",
          "name": "stdout",
          "text": [
            "Optimization terminated successfully.\n",
            "         Current function value: 27.463454\n",
            "         Iterations: 4\n",
            "         Function evaluations: 18\n",
            "         Gradient evaluations: 6\n",
            "-0.9716812748413178 4.399210573461103\n"
          ]
        }
      ]
    },
    {
      "cell_type": "code",
      "source": [
        "plt.errorbar(x,y,yerr, fmt='.')\n",
        "plt.plot(x,a_op*x+b_op)"
      ],
      "metadata": {
        "colab": {
          "base_uri": "https://localhost:8080/",
          "height": 302
        },
        "id": "2baG35VUURVB",
        "outputId": "d3852e7e-f83e-47b8-b82a-5c7abecde850"
      },
      "execution_count": 167,
      "outputs": [
        {
          "output_type": "execute_result",
          "data": {
            "text/plain": [
              "[<matplotlib.lines.Line2D at 0x7f1c0e2e1f50>]"
            ]
          },
          "metadata": {},
          "execution_count": 167
        },
        {
          "output_type": "display_data",
          "data": {
            "text/plain": [
              "<Figure size 432x288 with 1 Axes>"
            ],
            "image/png": "[encoded data removed]"
          },
          "metadata": {
            "needs_background": "light"
          }
        }
      ]
    },
    {
      "cell_type": "code",
      "source": [
        "plt.errorbar(x,y,yerr, fmt='.')\n",
        "plt.plot(x,a_op*x+b_op)\n",
        "plt.plot(x,a_fit*x+b_fit)\n",
        "plt.plot(x,a_reg*x+b_reg)\n",
        "plt.plot(x,m_true*x+b_true)"
      ],
      "metadata": {
        "colab": {
          "base_uri": "https://localhost:8080/",
          "height": 302
        },
        "id": "r3VVvXlrUUt0",
        "outputId": "142a4fc0-0c49-4179-d7a0-5e4645ba7b13"
      },
      "execution_count": 162,
      "outputs": [
        {
          "output_type": "execute_result",
          "data": {
            "text/plain": [
              "[<matplotlib.lines.Line2D at 0x7f1c0e2ef810>]"
            ]
          },
          "metadata": {},
          "execution_count": 162
        },
        {
          "output_type": "display_data",
          "data": {
            "text/plain": [
              "<Figure size 432x288 with 1 Axes>"
            ],
            "image/png": "[encoded data removed]"
          },
          "metadata": {
            "needs_background": "light"
          }
        }
      ]
    },
    {
      "cell_type": "code",
      "source": [],
      "metadata": {
        "id": "hqPi-3JJXFSU"
      },
      "execution_count": 97,
      "outputs": []
    }
  ]
}