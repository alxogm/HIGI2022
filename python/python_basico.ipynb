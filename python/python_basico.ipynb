{
  "nbformat": 4,
  "nbformat_minor": 0,
  "metadata": {
    "colab": {
      "provenance": [],
      "authorship_tag": "ABX9TyMnxGKswseHTGo71sb3EZYH",
      "include_colab_link": true
    },
    "kernelspec": {
      "name": "python3",
      "display_name": "Python 3"
    },
    "language_info": {
      "name": "python"
    }
  },
  "cells": [
    {
      "cell_type": "markdown",
      "metadata": {
        "id": "view-in-github",
        "colab_type": "text"
      },
      "source": [
        "<a href=\"https://colab.research.google.com/github/alxogm/HIGI2022/blob/main/python/python_basico.ipynb\" target=\"_parent\"><img src=\"https://colab.research.google.com/assets/colab-badge.svg\" alt=\"Open In Colab\"/></a>"
      ]
    },
    {
      "cell_type": "code",
      "execution_count": 1,
      "metadata": {
        "id": "0wMYJ2NJlTSB"
      },
      "outputs": [],
      "source": [
        "#Típicamente en las primeras celdas se importan las librerias que se utilizarán en el cuaderno. \n",
        "import os\n",
        "import numpy as np \n",
        "import matplotlib.pyplot as plt\n",
        "import math as math"
      ]
    },
    {
      "cell_type": "markdown",
      "source": [
        "# Este cuaderno de colab, similar a un cuaderno de jupyter, es una introducción a programación en python."
      ],
      "metadata": {
        "id": "IFjKFL8Rmbgw"
      }
    },
    {
      "cell_type": "code",
      "source": [
        "#Esta es una celda de calculo con un comentario"
      ],
      "metadata": {
        "id": "cEOlx5uWl0gx"
      },
      "execution_count": 2,
      "outputs": []
    },
    {
      "cell_type": "markdown",
      "source": [
        "Esta es una celda de texto"
      ],
      "metadata": {
        "id": "204oM67wxMYL"
      }
    },
    {
      "cell_type": "markdown",
      "source": [
        "El uso mas simple de python es como una calculadora."
      ],
      "metadata": {
        "id": "1D-wqm7lm2E2"
      }
    },
    {
      "cell_type": "code",
      "source": [
        "2+2"
      ],
      "metadata": {
        "colab": {
          "base_uri": "https://localhost:8080/"
        },
        "id": "6d_vwE-zmNUt",
        "outputId": "e7130ea7-1f00-494a-882a-9743f3e6747a"
      },
      "execution_count": 3,
      "outputs": [
        {
          "output_type": "execute_result",
          "data": {
            "text/plain": [
              "4"
            ]
          },
          "metadata": {},
          "execution_count": 3
        }
      ]
    },
    {
      "cell_type": "code",
      "source": [
        "4*10"
      ],
      "metadata": {
        "colab": {
          "base_uri": "https://localhost:8080/"
        },
        "id": "dko7p8qAmXbC",
        "outputId": "d5ab18aa-beae-4a19-cd14-d5ebfc882f81"
      },
      "execution_count": 4,
      "outputs": [
        {
          "output_type": "execute_result",
          "data": {
            "text/plain": [
              "40"
            ]
          },
          "metadata": {},
          "execution_count": 4
        }
      ]
    },
    {
      "cell_type": "code",
      "source": [
        "5*25+5"
      ],
      "metadata": {
        "colab": {
          "base_uri": "https://localhost:8080/"
        },
        "id": "8hNr552Nm65N",
        "outputId": "1c9a8f1b-3f9a-4036-bd33-6aa2bab94dd4"
      },
      "execution_count": 5,
      "outputs": [
        {
          "output_type": "execute_result",
          "data": {
            "text/plain": [
              "130"
            ]
          },
          "metadata": {},
          "execution_count": 5
        }
      ]
    },
    {
      "cell_type": "markdown",
      "source": [
        "Cómo en cualquier calculadora, y lenguaje de programación, es importante considerar la jerarquía de operaciones. "
      ],
      "metadata": {
        "id": "VvnOrgZjnF7z"
      }
    },
    {
      "cell_type": "code",
      "source": [
        "5*(25+5)"
      ],
      "metadata": {
        "colab": {
          "base_uri": "https://localhost:8080/"
        },
        "id": "2PNjc39km85W",
        "outputId": "bc7f6691-097c-4b09-af37-fe05619c6470"
      },
      "execution_count": 6,
      "outputs": [
        {
          "output_type": "execute_result",
          "data": {
            "text/plain": [
              "150"
            ]
          },
          "metadata": {},
          "execution_count": 6
        }
      ]
    },
    {
      "cell_type": "code",
      "source": [
        "-2**2"
      ],
      "metadata": {
        "colab": {
          "base_uri": "https://localhost:8080/"
        },
        "id": "Nv2O4qC3nATf",
        "outputId": "3618cfd8-80b8-4f57-a9f9-049c21799464"
      },
      "execution_count": 7,
      "outputs": [
        {
          "output_type": "execute_result",
          "data": {
            "text/plain": [
              "-4"
            ]
          },
          "metadata": {},
          "execution_count": 7
        }
      ]
    },
    {
      "cell_type": "code",
      "source": [
        "(-2)**2"
      ],
      "metadata": {
        "colab": {
          "base_uri": "https://localhost:8080/"
        },
        "id": "Lu95B487nO0I",
        "outputId": "47f55c02-0567-4fa0-8d11-8f5f01372e47"
      },
      "execution_count": 8,
      "outputs": [
        {
          "output_type": "execute_result",
          "data": {
            "text/plain": [
              "4"
            ]
          },
          "metadata": {},
          "execution_count": 8
        }
      ]
    },
    {
      "cell_type": "code",
      "source": [
        "#Si realizas operaciones con numeros escalares, no arreglos o vectores, entonces puedes utilizar la libreria math. "
      ],
      "metadata": {
        "id": "ASdpLt30oLGE"
      },
      "execution_count": 9,
      "outputs": []
    },
    {
      "cell_type": "code",
      "source": [
        "math.exp(math.log(1))"
      ],
      "metadata": {
        "colab": {
          "base_uri": "https://localhost:8080/"
        },
        "id": "HlVfbgO_nR4S",
        "outputId": "749f9a6f-a0c7-4a9f-edc5-23c8650260e7"
      },
      "execution_count": 10,
      "outputs": [
        {
          "output_type": "execute_result",
          "data": {
            "text/plain": [
              "1.0"
            ]
          },
          "metadata": {},
          "execution_count": 10
        }
      ]
    },
    {
      "cell_type": "code",
      "source": [
        "math.cos(math.pi)"
      ],
      "metadata": {
        "colab": {
          "base_uri": "https://localhost:8080/"
        },
        "id": "MeGzBhJioGCU",
        "outputId": "70dc2395-4a2b-4b99-e360-570b29d7a4d1"
      },
      "execution_count": 11,
      "outputs": [
        {
          "output_type": "execute_result",
          "data": {
            "text/plain": [
              "-1.0"
            ]
          },
          "metadata": {},
          "execution_count": 11
        }
      ]
    },
    {
      "cell_type": "code",
      "source": [],
      "metadata": {
        "id": "xceKxoC7ohDb"
      },
      "execution_count": 11,
      "outputs": []
    },
    {
      "cell_type": "markdown",
      "source": [
        "A diferencia de otros lenguajes de programación, la declaración de variables se puede hacer en cualquier celda, y solo se requiere asignar un valor a una variable para que ésta quede definida."
      ],
      "metadata": {
        "id": "MGSh1V5dosr2"
      }
    },
    {
      "cell_type": "code",
      "source": [
        "a=5\n",
        "b=3\n",
        "c=a*b\n",
        "print(c)"
      ],
      "metadata": {
        "colab": {
          "base_uri": "https://localhost:8080/"
        },
        "id": "mj1ijLAyo6Ca",
        "outputId": "bb7b1e7f-3648-456b-fdaf-2e9c326a10a0"
      },
      "execution_count": 12,
      "outputs": [
        {
          "output_type": "stream",
          "name": "stdout",
          "text": [
            "15\n"
          ]
        }
      ]
    },
    {
      "cell_type": "code",
      "source": [
        "#verifiquemos el tipo de variable que se definió\n",
        "type(a),type(b),type(c)"
      ],
      "metadata": {
        "colab": {
          "base_uri": "https://localhost:8080/"
        },
        "id": "jNQtQZd2o-jH",
        "outputId": "de5cf836-79b4-4485-ba49-f2e0c5b5f435"
      },
      "execution_count": 13,
      "outputs": [
        {
          "output_type": "execute_result",
          "data": {
            "text/plain": [
              "(int, int, int)"
            ]
          },
          "metadata": {},
          "execution_count": 13
        }
      ]
    },
    {
      "cell_type": "code",
      "source": [
        "#Si, uno de los numeros es flotante, la operación resultante será flotante\n",
        "\n",
        "a=5.\n",
        "b=3\n",
        "c=a*b\n",
        "type(a),type(b),type(c)"
      ],
      "metadata": {
        "colab": {
          "base_uri": "https://localhost:8080/"
        },
        "id": "6b_tosdbo-8n",
        "outputId": "6cbd1059-c3de-4f1b-d818-bd4505ad1462"
      },
      "execution_count": 14,
      "outputs": [
        {
          "output_type": "execute_result",
          "data": {
            "text/plain": [
              "(float, int, float)"
            ]
          },
          "metadata": {},
          "execution_count": 14
        }
      ]
    },
    {
      "cell_type": "code",
      "source": [
        "#La división siempre devuelve un flotante\n",
        "a=5\n",
        "b=3\n",
        "c=a/b\n",
        "type(a),type(b),type(c)"
      ],
      "metadata": {
        "colab": {
          "base_uri": "https://localhost:8080/"
        },
        "id": "Yr6MaMz1pWi7",
        "outputId": "293ac754-1d3d-4e17-cbcd-a51f8e92c1f0"
      },
      "execution_count": 15,
      "outputs": [
        {
          "output_type": "execute_result",
          "data": {
            "text/plain": [
              "(int, int, float)"
            ]
          },
          "metadata": {},
          "execution_count": 15
        }
      ]
    },
    {
      "cell_type": "code",
      "source": [
        "a//b #división descartando la parte fraccional"
      ],
      "metadata": {
        "colab": {
          "base_uri": "https://localhost:8080/"
        },
        "id": "RFj_lkr4qsZa",
        "outputId": "7a0c463a-f465-4aeb-cb59-92c8d391061a"
      },
      "execution_count": 16,
      "outputs": [
        {
          "output_type": "execute_result",
          "data": {
            "text/plain": [
              "1"
            ]
          },
          "metadata": {},
          "execution_count": 16
        }
      ]
    },
    {
      "cell_type": "code",
      "source": [
        "8%3 # El operador % regresa el restante de la división"
      ],
      "metadata": {
        "colab": {
          "base_uri": "https://localhost:8080/"
        },
        "id": "y95fqNqLq2zx",
        "outputId": "18d52f90-1f14-438c-aef1-d0d5ccf0df39"
      },
      "execution_count": 17,
      "outputs": [
        {
          "output_type": "execute_result",
          "data": {
            "text/plain": [
              "2"
            ]
          },
          "metadata": {},
          "execution_count": 17
        }
      ]
    },
    {
      "cell_type": "code",
      "source": [
        "#cuando una variable no está definida e intentamos usarla, nos arroja un error que dice que \"la variable no está definida\"\n",
        "n"
      ],
      "metadata": {
        "colab": {
          "base_uri": "https://localhost:8080/",
          "height": 181
        },
        "id": "qc5yrgvKujqN",
        "outputId": "6e29fa62-069d-48b0-94ce-60c6583817f8"
      },
      "execution_count": 18,
      "outputs": [
        {
          "output_type": "error",
          "ename": "NameError",
          "evalue": "ignored",
          "traceback": [
            "\u001b[0;31m---------------------------------------------------------------------------\u001b[0m",
            "\u001b[0;31mNameError\u001b[0m                                 Traceback (most recent call last)",
            "\u001b[0;32m<ipython-input-18-5bca04af08ee>\u001b[0m in \u001b[0;36m<module>\u001b[0;34m\u001b[0m\n\u001b[1;32m      1\u001b[0m \u001b[0;31m#cuando una variable no está definida e intentamos usarla, nos arroja un error que dice que \"la variable no está definida\"\u001b[0m\u001b[0;34m\u001b[0m\u001b[0;34m\u001b[0m\u001b[0;34m\u001b[0m\u001b[0m\n\u001b[0;32m----> 2\u001b[0;31m \u001b[0mn\u001b[0m\u001b[0;34m\u001b[0m\u001b[0;34m\u001b[0m\u001b[0m\n\u001b[0m",
            "\u001b[0;31mNameError\u001b[0m: name 'n' is not defined"
          ]
        }
      ]
    },
    {
      "cell_type": "markdown",
      "source": [
        "# Listas"
      ],
      "metadata": {
        "id": "Y81mp8mAxBtI"
      }
    },
    {
      "cell_type": "markdown",
      "source": [
        "Las listas pueden contener elementos de diferentes tipos, aunque tipicamente contienen elementos del mismo tipo"
      ],
      "metadata": {
        "id": "PopsWx0oxUSy"
      }
    },
    {
      "cell_type": "code",
      "source": [
        "mixta= [1,'texto', 3.0,math.pi]"
      ],
      "metadata": {
        "id": "QDtBRBn3xyY-"
      },
      "execution_count": 19,
      "outputs": []
    },
    {
      "cell_type": "code",
      "source": [
        "cuadrados= [1, 4, 9, 16, 25]"
      ],
      "metadata": {
        "id": "ablOw3TDxk8e"
      },
      "execution_count": 20,
      "outputs": []
    },
    {
      "cell_type": "code",
      "source": [
        "#Podemos acceder a cada elemento con su indice, los indices inician en cero. \n",
        "print(cuadrados[0])\n",
        "print(cuadrados[4])\n",
        "print(cuadrados[-2],cuadrados[3]) "
      ],
      "metadata": {
        "colab": {
          "base_uri": "https://localhost:8080/"
        },
        "id": "-PqeM1dMx4If",
        "outputId": "2e6ddd09-549f-4d2b-ae62-7f538c7e27e5"
      },
      "execution_count": 21,
      "outputs": [
        {
          "output_type": "stream",
          "name": "stdout",
          "text": [
            "1\n",
            "25\n",
            "16 16\n"
          ]
        }
      ]
    },
    {
      "cell_type": "code",
      "source": [
        "#Dos cadenas pueden concatenarse\n",
        "cuadrados + [36, 49, 64, 81, 100]"
      ],
      "metadata": {
        "colab": {
          "base_uri": "https://localhost:8080/"
        },
        "id": "aXneZGNTyVyd",
        "outputId": "afc98c63-1fcc-4f27-cba7-e3c07289dafc"
      },
      "execution_count": 22,
      "outputs": [
        {
          "output_type": "execute_result",
          "data": {
            "text/plain": [
              "[1, 4, 9, 16, 25, 36, 49, 64, 81, 100]"
            ]
          },
          "metadata": {},
          "execution_count": 22
        }
      ]
    },
    {
      "cell_type": "code",
      "source": [
        "#Podemos modificar cada elemento de la lista de forma independiente\n",
        "cubos = [1, 8, 27, 65, 125]\n",
        "cubos[3]=4**3\n",
        "cubos "
      ],
      "metadata": {
        "colab": {
          "base_uri": "https://localhost:8080/"
        },
        "id": "ca0OnzNiyBhe",
        "outputId": "a4039d3b-c347-4712-da35-8d3ef983d3e5"
      },
      "execution_count": 23,
      "outputs": [
        {
          "output_type": "execute_result",
          "data": {
            "text/plain": [
              "[1, 8, 27, 64, 125]"
            ]
          },
          "metadata": {},
          "execution_count": 23
        }
      ]
    },
    {
      "cell_type": "code",
      "source": [
        "#Podemos añadir nuevos elementos a la lista\n",
        "cubos.append(6**3)\n",
        "cubos"
      ],
      "metadata": {
        "colab": {
          "base_uri": "https://localhost:8080/"
        },
        "id": "DyOV7nDkyv4U",
        "outputId": "00c85394-ee74-4d5a-bc83-775011f69943"
      },
      "execution_count": 24,
      "outputs": [
        {
          "output_type": "execute_result",
          "data": {
            "text/plain": [
              "[1, 8, 27, 64, 125, 216]"
            ]
          },
          "metadata": {},
          "execution_count": 24
        }
      ]
    },
    {
      "cell_type": "code",
      "source": [
        "#Podemos accesar y/o modificar la lista por secciones \n",
        "letras = ['a', 'b', 'c', 'd', 'e', 'f', 'g']\n",
        "letras\n"
      ],
      "metadata": {
        "colab": {
          "base_uri": "https://localhost:8080/"
        },
        "id": "JbGYSMEty8QR",
        "outputId": "75c70b00-2c77-4dfa-d44a-9ef81ec8505b"
      },
      "execution_count": 25,
      "outputs": [
        {
          "output_type": "execute_result",
          "data": {
            "text/plain": [
              "['a', 'b', 'c', 'd', 'e', 'f', 'g']"
            ]
          },
          "metadata": {},
          "execution_count": 25
        }
      ]
    },
    {
      "cell_type": "code",
      "source": [
        "letras[2:5] = ['C', 'D', 'E']\n",
        "letras"
      ],
      "metadata": {
        "colab": {
          "base_uri": "https://localhost:8080/"
        },
        "id": "uqdib-Z3zJgv",
        "outputId": "61e1ecbd-7156-4bda-d39f-79d9c8396dda"
      },
      "execution_count": 26,
      "outputs": [
        {
          "output_type": "execute_result",
          "data": {
            "text/plain": [
              "['a', 'b', 'C', 'D', 'E', 'f', 'g']"
            ]
          },
          "metadata": {},
          "execution_count": 26
        }
      ]
    },
    {
      "cell_type": "code",
      "source": [
        "#¿Cuantos elementos tiene la lista?\n",
        "len(letras)"
      ],
      "metadata": {
        "colab": {
          "base_uri": "https://localhost:8080/"
        },
        "id": "RRDuSGUMzPiN",
        "outputId": "e52e7440-afde-4452-e8bf-9ba60051c9c4"
      },
      "execution_count": 27,
      "outputs": [
        {
          "output_type": "execute_result",
          "data": {
            "text/plain": [
              "7"
            ]
          },
          "metadata": {},
          "execution_count": 27
        }
      ]
    },
    {
      "cell_type": "code",
      "source": [
        "#Es posible tener listas que contienen otras listas\n",
        "lista=[cuadrados,cubos]\n",
        "lista"
      ],
      "metadata": {
        "colab": {
          "base_uri": "https://localhost:8080/"
        },
        "id": "d8X4PJwOzWpQ",
        "outputId": "e63f2da9-ba11-4e48-ab56-acda4e547b0c"
      },
      "execution_count": 28,
      "outputs": [
        {
          "output_type": "execute_result",
          "data": {
            "text/plain": [
              "[[1, 4, 9, 16, 25], [1, 8, 27, 64, 125, 216]]"
            ]
          },
          "metadata": {},
          "execution_count": 28
        }
      ]
    },
    {
      "cell_type": "code",
      "source": [],
      "metadata": {
        "id": "FkYtn8-1zhAS"
      },
      "execution_count": 28,
      "outputs": []
    },
    {
      "cell_type": "markdown",
      "source": [
        "# Funciones de Control"
      ],
      "metadata": {
        "id": "at6U19ABzt-t"
      }
    },
    {
      "cell_type": "markdown",
      "source": [
        "### Ciclo While"
      ],
      "metadata": {
        "id": "EZUGrStb0cQN"
      }
    },
    {
      "cell_type": "code",
      "source": [
        "a, b = 0, 1\n",
        "while a < 10:\n",
        "  print('a=',a,'b=',b)\n",
        "  a, b = b, a+b"
      ],
      "metadata": {
        "colab": {
          "base_uri": "https://localhost:8080/"
        },
        "id": "jOlRiYykz57y",
        "outputId": "60065a88-8fe0-41a9-f6da-3f820a0eb6a4"
      },
      "execution_count": 29,
      "outputs": [
        {
          "output_type": "stream",
          "name": "stdout",
          "text": [
            "a= 0 b= 1\n",
            "a= 1 b= 1\n",
            "a= 1 b= 2\n",
            "a= 2 b= 3\n",
            "a= 3 b= 5\n",
            "a= 5 b= 8\n",
            "a= 8 b= 13\n"
          ]
        }
      ]
    },
    {
      "cell_type": "code",
      "source": [
        "#Otra forma de imprimir los valores de a y b\n",
        "a, b = 0, 1\n",
        "while a < 10:\n",
        "  print(f'a={a} b={b}')\n",
        "  a, b = b, a+b"
      ],
      "metadata": {
        "colab": {
          "base_uri": "https://localhost:8080/"
        },
        "id": "KH8UFdBv0AE0",
        "outputId": "d9f3ccee-bf6a-4df2-b93e-80b3045ed737"
      },
      "execution_count": 30,
      "outputs": [
        {
          "output_type": "stream",
          "name": "stdout",
          "text": [
            "a=0 b=1\n",
            "a=1 b=1\n",
            "a=1 b=2\n",
            "a=2 b=3\n",
            "a=3 b=5\n",
            "a=5 b=8\n",
            "a=8 b=13\n"
          ]
        }
      ]
    },
    {
      "cell_type": "markdown",
      "source": [
        "### Ciclo for"
      ],
      "metadata": {
        "id": "wERzS_f41Fym"
      }
    },
    {
      "cell_type": "code",
      "source": [
        "words = ['gato', 'ventana', 'entusiasmo']\n",
        "for w in words:\n",
        "  print(w, len(w))"
      ],
      "metadata": {
        "colab": {
          "base_uri": "https://localhost:8080/"
        },
        "id": "FmEol0nj0SV4",
        "outputId": "4f23f5ce-5673-40cb-af95-2775d0e0bb43"
      },
      "execution_count": 31,
      "outputs": [
        {
          "output_type": "stream",
          "name": "stdout",
          "text": [
            "gato 4\n",
            "ventana 7\n",
            "entusiasmo 10\n"
          ]
        }
      ]
    },
    {
      "cell_type": "code",
      "source": [
        "for i in range(5):\n",
        "  print(i)"
      ],
      "metadata": {
        "colab": {
          "base_uri": "https://localhost:8080/"
        },
        "id": "iik3AgHy8kqM",
        "outputId": "9eaf5e08-e393-4994-aac7-d043106f3a2f"
      },
      "execution_count": 32,
      "outputs": [
        {
          "output_type": "stream",
          "name": "stdout",
          "text": [
            "0\n",
            "1\n",
            "2\n",
            "3\n",
            "4\n"
          ]
        }
      ]
    },
    {
      "cell_type": "code",
      "source": [
        "for i in range(len(words)):\n",
        "  print(i,words[i])"
      ],
      "metadata": {
        "colab": {
          "base_uri": "https://localhost:8080/"
        },
        "id": "4hB4bAEa8qS9",
        "outputId": "c0150c9d-b901-4e43-8a55-572c1b9944c0"
      },
      "execution_count": 33,
      "outputs": [
        {
          "output_type": "stream",
          "name": "stdout",
          "text": [
            "0 gato\n",
            "1 ventana\n",
            "2 entusiasmo\n"
          ]
        }
      ]
    },
    {
      "cell_type": "code",
      "source": [
        "for i,w in enumerate(words):\n",
        "  print(i,w)"
      ],
      "metadata": {
        "colab": {
          "base_uri": "https://localhost:8080/"
        },
        "id": "7eGW4G2u2rPh",
        "outputId": "7208b9eb-259c-4612-8f17-a092e554f430"
      },
      "execution_count": 34,
      "outputs": [
        {
          "output_type": "stream",
          "name": "stdout",
          "text": [
            "0 gato\n",
            "1 ventana\n",
            "2 entusiasmo\n"
          ]
        }
      ]
    },
    {
      "cell_type": "markdown",
      "source": [],
      "metadata": {
        "id": "uJfO9g5k8ofr"
      }
    },
    {
      "cell_type": "markdown",
      "source": [
        "## Condicional if, else"
      ],
      "metadata": {
        "id": "pJswVyXG3HOe"
      }
    },
    {
      "cell_type": "code",
      "source": [
        "x = -34\n",
        "\n",
        "if x < 0:\n",
        "  x = 0\n",
        "  print('Numero negativo cambiado a cero')\n",
        "elif x == 0:\n",
        "  print('cero')\n",
        "elif x == 1:\n",
        "  print('Uno')\n",
        "else:\n",
        "    print('numero positivo')\n"
      ],
      "metadata": {
        "colab": {
          "base_uri": "https://localhost:8080/"
        },
        "id": "oGKLsbZy7xEv",
        "outputId": "ce9d9725-2606-466b-d97d-49cf962ee773"
      },
      "execution_count": 35,
      "outputs": [
        {
          "output_type": "stream",
          "name": "stdout",
          "text": [
            "Numero negativo cambiado a cero\n"
          ]
        }
      ]
    },
    {
      "cell_type": "code",
      "source": [
        "#Para este ejemplo crearemos un diccionario \n",
        "alumnos = {'Alma': 'activa', 'Juan': 'inactivo', 'Pedro': 'activa'}\n",
        "for alumno, estatus in alumnos.copy().items():\n",
        "    if estatus == 'inactivo':\n",
        "        del alumnos[alumno]"
      ],
      "metadata": {
        "id": "8qBdbjSW1Ogt"
      },
      "execution_count": 36,
      "outputs": []
    },
    {
      "cell_type": "code",
      "source": [
        "alumnos"
      ],
      "metadata": {
        "colab": {
          "base_uri": "https://localhost:8080/"
        },
        "id": "akQV-Zan2JXL",
        "outputId": "df3a5869-7853-477f-e27b-cae82c44c550"
      },
      "execution_count": 37,
      "outputs": [
        {
          "output_type": "execute_result",
          "data": {
            "text/plain": [
              "{'Alma': 'activa', 'Pedro': 'activa'}"
            ]
          },
          "metadata": {},
          "execution_count": 37
        }
      ]
    },
    {
      "cell_type": "code",
      "source": [
        "for n in range(2, 10):\n",
        "  for x in range(2, n):\n",
        "    if n % x == 0:\n",
        "      print(n, 'es igual a ', x, '*', n//x)\n",
        "      break\n",
        "  else:         #Este else corresponde al ciclo for, no al if... es una forma de decir lo que se debe hacer cuando se rompe el ciclo... \n",
        "    print(n, 'es primo')\n",
        "     "
      ],
      "metadata": {
        "colab": {
          "base_uri": "https://localhost:8080/"
        },
        "id": "5tvua9uF2Np6",
        "outputId": "b9e744f9-8358-419f-d8f2-62d1065e1cb1"
      },
      "execution_count": 38,
      "outputs": [
        {
          "output_type": "stream",
          "name": "stdout",
          "text": [
            "2 es primo\n",
            "3 es primo\n",
            "4 es igual a  2 * 2\n",
            "5 es primo\n",
            "6 es igual a  2 * 3\n",
            "7 es primo\n",
            "8 es igual a  2 * 4\n",
            "9 es igual a  3 * 3\n"
          ]
        }
      ]
    },
    {
      "cell_type": "code",
      "source": [
        "for num in range(2, 10):\n",
        "  if num % 2 == 0:\n",
        "    print(f\"{num} es par\")\n",
        "    continue\n",
        "    \n",
        "  print(f\"{num} es impar\")"
      ],
      "metadata": {
        "colab": {
          "base_uri": "https://localhost:8080/"
        },
        "id": "nCarBNQQ9VhU",
        "outputId": "5ef285d7-1437-42d9-f431-cb58959a6e16"
      },
      "execution_count": 39,
      "outputs": [
        {
          "output_type": "stream",
          "name": "stdout",
          "text": [
            "2 es par\n",
            "3 es impar\n",
            "4 es par\n",
            "5 es impar\n",
            "6 es par\n",
            "7 es impar\n",
            "8 es par\n",
            "9 es impar\n"
          ]
        }
      ]
    },
    {
      "cell_type": "code",
      "source": [],
      "metadata": {
        "id": "08LrMlNW-whG"
      },
      "execution_count": 39,
      "outputs": []
    },
    {
      "cell_type": "markdown",
      "source": [
        "# Defininendo  Funciones"
      ],
      "metadata": {
        "id": "5Xs0d_x7_e1E"
      }
    },
    {
      "cell_type": "code",
      "source": [
        "def fib(n):    # write Fibonacci series up to n\n",
        "  \"\"\"Print a Fibonacci series up to n.\"\"\"\n",
        "  a, b = 0, 1\n",
        "  while a < n:\n",
        "    print(a, end=' ') #el argumento end previene que haya un cambio de linea. \n",
        "    a, b = b, a+b"
      ],
      "metadata": {
        "id": "dfd9JCDx_h-z"
      },
      "execution_count": 49,
      "outputs": []
    },
    {
      "cell_type": "code",
      "source": [
        "fib100=fib(10)"
      ],
      "metadata": {
        "id": "Tj3AT62eAdHQ",
        "outputId": "3c1db09c-5410-4a1c-edb0-21a0e506cc19",
        "colab": {
          "base_uri": "https://localhost:8080/"
        }
      },
      "execution_count": 62,
      "outputs": [
        {
          "output_type": "stream",
          "name": "stdout",
          "text": [
            "0 1 1 2 3 5 8 "
          ]
        }
      ]
    },
    {
      "cell_type": "code",
      "source": [
        "print(fib100)"
      ],
      "metadata": {
        "id": "6jytQqJPB7cD",
        "outputId": "b797b390-ce46-4392-d6bc-6c3827a31e36",
        "colab": {
          "base_uri": "https://localhost:8080/"
        }
      },
      "execution_count": 64,
      "outputs": [
        {
          "output_type": "stream",
          "name": "stdout",
          "text": [
            "None\n"
          ]
        }
      ]
    },
    {
      "cell_type": "code",
      "source": [
        "#La misma función pero ahora regresando una lista con el resultado\n",
        "def fib2(n):  # return Fibonacci series up to n\n",
        "  \"\"\"Return a list containing the Fibonacci series up to n.\"\"\"\n",
        "  result = []\n",
        "  a, b = 0, 1\n",
        "  while a < n:\n",
        "    result.append(a)    # see below\n",
        "    a, b = b, a+b\n",
        " \n",
        "  return result"
      ],
      "metadata": {
        "id": "BcNXTemOAsXV"
      },
      "execution_count": 65,
      "outputs": []
    },
    {
      "cell_type": "code",
      "source": [
        "fib100=fib2(100)"
      ],
      "metadata": {
        "id": "-lX9BEp1BqxK"
      },
      "execution_count": 66,
      "outputs": []
    },
    {
      "cell_type": "code",
      "source": [
        "fib100"
      ],
      "metadata": {
        "id": "EjJbJJpTBvJs",
        "outputId": "b6fbc4ad-e003-4a07-8867-3d45d9dc9601",
        "colab": {
          "base_uri": "https://localhost:8080/"
        }
      },
      "execution_count": 67,
      "outputs": [
        {
          "output_type": "execute_result",
          "data": {
            "text/plain": [
              "[0, 1, 1, 2, 3, 5, 8, 13, 21, 34, 55, 89]"
            ]
          },
          "metadata": {},
          "execution_count": 67
        }
      ]
    },
    {
      "cell_type": "code",
      "source": [
        "#funcion con 3 argumentos de entrada y dos de salida. \n",
        "def raices(a,b,c):\n",
        "  raiz=math.sqrt(b**2-4*a*c)\n",
        "  return (-b+raiz)/2,(-b-raiz)/2\n",
        "\n",
        "#Función con 3 argumentos de entrada, uno de ellos opcional ya que tiene un valor por defecto, y dos argumentos de salida\n",
        "def raices2(b,c,a=1):\n",
        "  raiz=math.sqrt(b**2-4*a*c)\n",
        "  return (-b+raiz)/2,(-b-raiz)/2\n",
        "  "
      ],
      "metadata": {
        "id": "A7JSeQTHB4T5"
      },
      "execution_count": 80,
      "outputs": []
    },
    {
      "cell_type": "code",
      "source": [
        "\n",
        "raices(1,0,-25)"
      ],
      "metadata": {
        "id": "yWMW2PJiCiUC",
        "outputId": "3e1ca0a0-5451-49d5-d9bc-c94858685e87",
        "colab": {
          "base_uri": "https://localhost:8080/"
        }
      },
      "execution_count": 81,
      "outputs": [
        {
          "output_type": "execute_result",
          "data": {
            "text/plain": [
              "(5.0, -5.0)"
            ]
          },
          "metadata": {},
          "execution_count": 81
        }
      ]
    },
    {
      "cell_type": "code",
      "source": [
        "\n",
        "raices2(0,-25)"
      ],
      "metadata": {
        "id": "eNqNhBFyCr8f",
        "outputId": "9e6f81b9-dd75-4341-faa2-f055d253dd26",
        "colab": {
          "base_uri": "https://localhost:8080/"
        }
      },
      "execution_count": 82,
      "outputs": [
        {
          "output_type": "execute_result",
          "data": {
            "text/plain": [
              "(5.0, -5.0)"
            ]
          },
          "metadata": {},
          "execution_count": 82
        }
      ]
    },
    {
      "cell_type": "code",
      "source": [],
      "metadata": {
        "id": "kR7SZhNbDevc"
      },
      "execution_count": null,
      "outputs": []
    },
    {
      "cell_type": "markdown",
      "source": [
        "# Arreglos de Numpy\n",
        "(ver https://numpy.org/doc/stable/user/quickstart.html)"
      ],
      "metadata": {
        "id": "UpkenvPgEl5F"
      }
    },
    {
      "cell_type": "code",
      "source": [
        "a = np.arange(15)\n",
        "a"
      ],
      "metadata": {
        "id": "5jmgb8-lEofX",
        "outputId": "c79b614e-142b-44d5-a240-7f2b791157ab",
        "colab": {
          "base_uri": "https://localhost:8080/"
        }
      },
      "execution_count": 92,
      "outputs": [
        {
          "output_type": "execute_result",
          "data": {
            "text/plain": [
              "array([ 0,  1,  2,  3,  4,  5,  6,  7,  8,  9, 10, 11, 12, 13, 14])"
            ]
          },
          "metadata": {},
          "execution_count": 92
        }
      ]
    },
    {
      "cell_type": "code",
      "source": [
        "print(a.shape,a.ndim,a.dtype.name,a.size)"
      ],
      "metadata": {
        "id": "5Mzm5QeBEyOX",
        "outputId": "3373c1ce-1ec0-4044-e874-b89c35e37803",
        "colab": {
          "base_uri": "https://localhost:8080/"
        }
      },
      "execution_count": 93,
      "outputs": [
        {
          "output_type": "stream",
          "name": "stdout",
          "text": [
            "(15,) 1 int64 15\n"
          ]
        }
      ]
    },
    {
      "cell_type": "code",
      "source": [
        "a = np.arange(15).reshape(3, 5)\n",
        "a"
      ],
      "metadata": {
        "id": "-ewFtt1uEpGZ",
        "outputId": "116a2f42-1d2d-47e1-be51-62fe3d91d0c5",
        "colab": {
          "base_uri": "https://localhost:8080/"
        }
      },
      "execution_count": 94,
      "outputs": [
        {
          "output_type": "execute_result",
          "data": {
            "text/plain": [
              "array([[ 0,  1,  2,  3,  4],\n",
              "       [ 5,  6,  7,  8,  9],\n",
              "       [10, 11, 12, 13, 14]])"
            ]
          },
          "metadata": {},
          "execution_count": 94
        }
      ]
    },
    {
      "cell_type": "code",
      "source": [
        "print(a.shape,a.ndim,a.dtype.name,a.size)"
      ],
      "metadata": {
        "id": "ttks61tAEuYD",
        "outputId": "430af317-7ea0-4128-d3a3-92ab155f92ae",
        "colab": {
          "base_uri": "https://localhost:8080/"
        }
      },
      "execution_count": 95,
      "outputs": [
        {
          "output_type": "stream",
          "name": "stdout",
          "text": [
            "(3, 5) 2 int64 15\n"
          ]
        }
      ]
    },
    {
      "cell_type": "code",
      "source": [
        "type(a)"
      ],
      "metadata": {
        "id": "fs7jloPDE-XE",
        "outputId": "b98031ae-c9ba-4ff9-e95c-4c080a17785b",
        "colab": {
          "base_uri": "https://localhost:8080/"
        }
      },
      "execution_count": 96,
      "outputs": [
        {
          "output_type": "execute_result",
          "data": {
            "text/plain": [
              "numpy.ndarray"
            ]
          },
          "metadata": {},
          "execution_count": 96
        }
      ]
    },
    {
      "cell_type": "code",
      "source": [
        "a = np.array([2, 3, 4])\n",
        "b = np.array([1.2, 3.5, 5.1])"
      ],
      "metadata": {
        "id": "G_A7X8GSFesG"
      },
      "execution_count": 97,
      "outputs": []
    },
    {
      "cell_type": "code",
      "source": [
        "a"
      ],
      "metadata": {
        "id": "LSMhtIZsFriC",
        "outputId": "fe978392-3073-4d37-d884-6c2a4c2bdaba",
        "colab": {
          "base_uri": "https://localhost:8080/"
        }
      },
      "execution_count": 98,
      "outputs": [
        {
          "output_type": "execute_result",
          "data": {
            "text/plain": [
              "array([2, 3, 4])"
            ]
          },
          "metadata": {},
          "execution_count": 98
        }
      ]
    },
    {
      "cell_type": "code",
      "source": [
        "b"
      ],
      "metadata": {
        "id": "K87yRvMuFr2R",
        "outputId": "0a62eb40-8a81-45fe-b6c2-17cc66a37e66",
        "colab": {
          "base_uri": "https://localhost:8080/"
        }
      },
      "execution_count": 99,
      "outputs": [
        {
          "output_type": "execute_result",
          "data": {
            "text/plain": [
              "array([1.2, 3.5, 5.1])"
            ]
          },
          "metadata": {},
          "execution_count": 99
        }
      ]
    },
    {
      "cell_type": "code",
      "source": [
        "a = np.array(1, 2, 3, 4)"
      ],
      "metadata": {
        "id": "wwrdmudpFsZO",
        "outputId": "99e9f798-6cee-4714-d236-899d26297a54",
        "colab": {
          "base_uri": "https://localhost:8080/",
          "height": 164
        }
      },
      "execution_count": 100,
      "outputs": [
        {
          "output_type": "error",
          "ename": "TypeError",
          "evalue": "ignored",
          "traceback": [
            "\u001b[0;31m---------------------------------------------------------------------------\u001b[0m",
            "\u001b[0;31mTypeError\u001b[0m                                 Traceback (most recent call last)",
            "\u001b[0;32m<ipython-input-100-03417382e2d0>\u001b[0m in \u001b[0;36m<module>\u001b[0;34m\u001b[0m\n\u001b[0;32m----> 1\u001b[0;31m \u001b[0ma\u001b[0m \u001b[0;34m=\u001b[0m \u001b[0mnp\u001b[0m\u001b[0;34m.\u001b[0m\u001b[0marray\u001b[0m\u001b[0;34m(\u001b[0m\u001b[0;36m1\u001b[0m\u001b[0;34m,\u001b[0m \u001b[0;36m2\u001b[0m\u001b[0;34m,\u001b[0m \u001b[0;36m3\u001b[0m\u001b[0;34m,\u001b[0m \u001b[0;36m4\u001b[0m\u001b[0;34m)\u001b[0m\u001b[0;34m\u001b[0m\u001b[0;34m\u001b[0m\u001b[0m\n\u001b[0m",
            "\u001b[0;31mTypeError\u001b[0m: array() takes from 1 to 2 positional arguments but 4 were given"
          ]
        }
      ]
    },
    {
      "cell_type": "code",
      "source": [
        "a = np.array([1, 2, 3, 4]) "
      ],
      "metadata": {
        "id": "rfd_m881Fxjs"
      },
      "execution_count": 105,
      "outputs": []
    },
    {
      "cell_type": "code",
      "source": [
        "c = np.array([[1, 2], [3, 4]], dtype=complex)"
      ],
      "metadata": {
        "id": "RyP5rHjjF12m"
      },
      "execution_count": 106,
      "outputs": []
    },
    {
      "cell_type": "code",
      "source": [
        "c"
      ],
      "metadata": {
        "id": "_IRzaI5tF683",
        "outputId": "a34f368c-f8c7-4e9e-8a2a-3de2b4caeac8",
        "colab": {
          "base_uri": "https://localhost:8080/"
        }
      },
      "execution_count": 107,
      "outputs": [
        {
          "output_type": "execute_result",
          "data": {
            "text/plain": [
              "array([[1.+0.j, 2.+0.j],\n",
              "       [3.+0.j, 4.+0.j]])"
            ]
          },
          "metadata": {},
          "execution_count": 107
        }
      ]
    },
    {
      "cell_type": "code",
      "source": [
        "np.zeros((3, 4))"
      ],
      "metadata": {
        "id": "27DdIeRLGCuo",
        "outputId": "44ef4d0c-e37e-461c-cb08-9e9b194a74ef",
        "colab": {
          "base_uri": "https://localhost:8080/"
        }
      },
      "execution_count": 108,
      "outputs": [
        {
          "output_type": "execute_result",
          "data": {
            "text/plain": [
              "array([[0., 0., 0., 0.],\n",
              "       [0., 0., 0., 0.],\n",
              "       [0., 0., 0., 0.]])"
            ]
          },
          "metadata": {},
          "execution_count": 108
        }
      ]
    },
    {
      "cell_type": "code",
      "source": [
        "np.ones((2, 3, 4), dtype=np.int16)"
      ],
      "metadata": {
        "id": "sO9CiLP1GF_F",
        "outputId": "179786c8-2c13-423e-c712-dde95c9dd94b",
        "colab": {
          "base_uri": "https://localhost:8080/"
        }
      },
      "execution_count": 109,
      "outputs": [
        {
          "output_type": "execute_result",
          "data": {
            "text/plain": [
              "array([[[1, 1, 1, 1],\n",
              "        [1, 1, 1, 1],\n",
              "        [1, 1, 1, 1]],\n",
              "\n",
              "       [[1, 1, 1, 1],\n",
              "        [1, 1, 1, 1],\n",
              "        [1, 1, 1, 1]]], dtype=int16)"
            ]
          },
          "metadata": {},
          "execution_count": 109
        }
      ]
    },
    {
      "cell_type": "code",
      "source": [
        "np.empty((2, 3)) "
      ],
      "metadata": {
        "id": "WLPXIj6zGIhV",
        "outputId": "f7d80049-6620-4a8d-b601-0ce03f6f2d10",
        "colab": {
          "base_uri": "https://localhost:8080/"
        }
      },
      "execution_count": 110,
      "outputs": [
        {
          "output_type": "execute_result",
          "data": {
            "text/plain": [
              "array([[2.52868647e-316, 0.00000000e+000, 0.00000000e+000],\n",
              "       [0.00000000e+000, 0.00000000e+000, 0.00000000e+000]])"
            ]
          },
          "metadata": {},
          "execution_count": 110
        }
      ]
    },
    {
      "cell_type": "code",
      "source": [
        "np.linspace(0, 10, num=5)"
      ],
      "metadata": {
        "id": "segodBIPG2Jn",
        "outputId": "3f15e533-4cd8-44a4-eba2-5a7641c1fba2",
        "colab": {
          "base_uri": "https://localhost:8080/"
        }
      },
      "execution_count": 117,
      "outputs": [
        {
          "output_type": "execute_result",
          "data": {
            "text/plain": [
              "array([ 0. ,  2.5,  5. ,  7.5, 10. ])"
            ]
          },
          "metadata": {},
          "execution_count": 117
        }
      ]
    },
    {
      "cell_type": "code",
      "source": [
        "np.arange(0,10, 2)"
      ],
      "metadata": {
        "id": "jXLhwbXoHFO3",
        "outputId": "2421f63c-6f7a-4ad4-f246-11f2c6624242",
        "colab": {
          "base_uri": "https://localhost:8080/"
        }
      },
      "execution_count": 118,
      "outputs": [
        {
          "output_type": "execute_result",
          "data": {
            "text/plain": [
              "array([0, 2, 4, 6, 8])"
            ]
          },
          "metadata": {},
          "execution_count": 118
        }
      ]
    },
    {
      "cell_type": "code",
      "source": [
        "arr=np.linspace(0, 10, num=5)\n",
        "np.sort(arr)"
      ],
      "metadata": {
        "id": "2fbgToCbHKWq",
        "outputId": "82bc909d-0b52-43d2-ab9c-e5de8681b302",
        "colab": {
          "base_uri": "https://localhost:8080/"
        }
      },
      "execution_count": 120,
      "outputs": [
        {
          "output_type": "execute_result",
          "data": {
            "text/plain": [
              "array([ 0. ,  2.5,  5. ,  7.5, 10. ])"
            ]
          },
          "metadata": {},
          "execution_count": 120
        }
      ]
    },
    {
      "cell_type": "code",
      "source": [
        "a = np.array([1, 2, 3, 4])\n",
        "b = np.array([5, 6, 7, 8])"
      ],
      "metadata": {
        "id": "MTgEN5oJHXe4"
      },
      "execution_count": 122,
      "outputs": []
    },
    {
      "cell_type": "code",
      "source": [
        "a"
      ],
      "metadata": {
        "id": "cE4D2vunHn-b",
        "outputId": "1c75a519-e8f5-4fad-d935-dbe10325ac2e",
        "colab": {
          "base_uri": "https://localhost:8080/"
        }
      },
      "execution_count": 123,
      "outputs": [
        {
          "output_type": "execute_result",
          "data": {
            "text/plain": [
              "array([1, 2, 3, 4])"
            ]
          },
          "metadata": {},
          "execution_count": 123
        }
      ]
    },
    {
      "cell_type": "code",
      "source": [
        "b\n"
      ],
      "metadata": {
        "id": "CmyIdtTLHopp",
        "outputId": "1a5a90a1-24ad-4b9c-989e-ccef944dc398",
        "colab": {
          "base_uri": "https://localhost:8080/"
        }
      },
      "execution_count": 124,
      "outputs": [
        {
          "output_type": "execute_result",
          "data": {
            "text/plain": [
              "array([5, 6, 7, 8])"
            ]
          },
          "metadata": {},
          "execution_count": 124
        }
      ]
    },
    {
      "cell_type": "code",
      "source": [
        "np.concatenate((a,b), axis=0)"
      ],
      "metadata": {
        "id": "-PJbkFjoHpTe",
        "outputId": "357da4d7-9a16-4cc4-904f-593ad1ed0f88",
        "colab": {
          "base_uri": "https://localhost:8080/"
        }
      },
      "execution_count": 126,
      "outputs": [
        {
          "output_type": "execute_result",
          "data": {
            "text/plain": [
              "array([1, 2, 3, 4, 5, 6, 7, 8])"
            ]
          },
          "metadata": {},
          "execution_count": 126
        }
      ]
    },
    {
      "cell_type": "code",
      "source": [
        "x = np.array([[1, 2], [3, 4]])\n",
        "y = np.array([[5, 6]])\n",
        "np.concatenate((x,y), axis=0)"
      ],
      "metadata": {
        "id": "JcQwZILiHp62",
        "outputId": "a92ed580-6d02-4c83-eb4c-658a92760c3a",
        "colab": {
          "base_uri": "https://localhost:8080/"
        }
      },
      "execution_count": 127,
      "outputs": [
        {
          "output_type": "execute_result",
          "data": {
            "text/plain": [
              "array([[1, 2],\n",
              "       [3, 4],\n",
              "       [5, 6]])"
            ]
          },
          "metadata": {},
          "execution_count": 127
        }
      ]
    },
    {
      "cell_type": "code",
      "source": [],
      "metadata": {
        "id": "g985Do2nH0iO"
      },
      "execution_count": null,
      "outputs": []
    }
  ]
}