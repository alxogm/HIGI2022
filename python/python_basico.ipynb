{
  "nbformat": 4,
  "nbformat_minor": 0,
  "metadata": {
    "colab": {
      "provenance": [],
      "authorship_tag": "ABX9TyMiQ4X0MGhRgN0GKtbIiPxl",
      "include_colab_link": true
    },
    "kernelspec": {
      "name": "python3",
      "display_name": "Python 3"
    },
    "language_info": {
      "name": "python"
    }
  },
  "cells": [
    {
      "cell_type": "markdown",
      "metadata": {
        "id": "view-in-github",
        "colab_type": "text"
      },
      "source": [
        "<a href=\"https://colab.research.google.com/github/alxogm/HIGI2022/blob/main/python/python_basico.ipynb\" target=\"_parent\"><img src=\"https://colab.research.google.com/assets/colab-badge.svg\" alt=\"Open In Colab\"/></a>"
      ]
    },
    {
      "cell_type": "code",
      "execution_count": 8,
      "metadata": {
        "id": "0wMYJ2NJlTSB"
      },
      "outputs": [],
      "source": [
        "#Tipicamente las primeras celdas se utilizan para importar las librerias que se utilizarán en el cuaderno. \n",
        "import os\n",
        "import numpy as np \n",
        "import matplotlib.pyplot as plt\n",
        "import math as math"
      ]
    },
    {
      "cell_type": "markdown",
      "source": [
        "# Este cuaderno de colab, similar a un cuaderno de jupyter, es una introducción a programación en python."
      ],
      "metadata": {
        "id": "IFjKFL8Rmbgw"
      }
    },
    {
      "cell_type": "code",
      "source": [
        "#Esta es una celda de calculo con un comentario"
      ],
      "metadata": {
        "id": "cEOlx5uWl0gx"
      },
      "execution_count": 42,
      "outputs": []
    },
    {
      "cell_type": "markdown",
      "source": [
        "Esta es una celda de texto"
      ],
      "metadata": {
        "id": "204oM67wxMYL"
      }
    },
    {
      "cell_type": "markdown",
      "source": [
        "El uso mas simple de python es como una calculadora."
      ],
      "metadata": {
        "id": "1D-wqm7lm2E2"
      }
    },
    {
      "cell_type": "code",
      "source": [
        "2+2"
      ],
      "metadata": {
        "colab": {
          "base_uri": "https://localhost:8080/"
        },
        "id": "6d_vwE-zmNUt",
        "outputId": "cbd0a7fe-c566-45fa-c3a6-30e383737d11"
      },
      "execution_count": 2,
      "outputs": [
        {
          "output_type": "execute_result",
          "data": {
            "text/plain": [
              "4"
            ]
          },
          "metadata": {},
          "execution_count": 2
        }
      ]
    },
    {
      "cell_type": "code",
      "source": [
        "4*10"
      ],
      "metadata": {
        "colab": {
          "base_uri": "https://localhost:8080/"
        },
        "id": "dko7p8qAmXbC",
        "outputId": "cbe9075c-83c7-47c3-b577-935ca1164a51"
      },
      "execution_count": 3,
      "outputs": [
        {
          "output_type": "execute_result",
          "data": {
            "text/plain": [
              "40"
            ]
          },
          "metadata": {},
          "execution_count": 3
        }
      ]
    },
    {
      "cell_type": "code",
      "source": [
        "5*25+5"
      ],
      "metadata": {
        "colab": {
          "base_uri": "https://localhost:8080/"
        },
        "id": "8hNr552Nm65N",
        "outputId": "df340925-6cd1-4d26-e308-cf8b691b7b05"
      },
      "execution_count": 4,
      "outputs": [
        {
          "output_type": "execute_result",
          "data": {
            "text/plain": [
              "130"
            ]
          },
          "metadata": {},
          "execution_count": 4
        }
      ]
    },
    {
      "cell_type": "markdown",
      "source": [
        "Cómo en cualquier calculadora, y lenguaje de programación, es importante considerar la jerarquía de operaciones. "
      ],
      "metadata": {
        "id": "VvnOrgZjnF7z"
      }
    },
    {
      "cell_type": "code",
      "source": [
        "5*(25+5)"
      ],
      "metadata": {
        "colab": {
          "base_uri": "https://localhost:8080/"
        },
        "id": "2PNjc39km85W",
        "outputId": "ba2819ab-b362-4a07-c30e-52b08075781a"
      },
      "execution_count": 5,
      "outputs": [
        {
          "output_type": "execute_result",
          "data": {
            "text/plain": [
              "150"
            ]
          },
          "metadata": {},
          "execution_count": 5
        }
      ]
    },
    {
      "cell_type": "code",
      "source": [
        "-2**2"
      ],
      "metadata": {
        "colab": {
          "base_uri": "https://localhost:8080/"
        },
        "id": "Nv2O4qC3nATf",
        "outputId": "93395208-fb44-4ffb-863a-3e0cce0cca82"
      },
      "execution_count": 6,
      "outputs": [
        {
          "output_type": "execute_result",
          "data": {
            "text/plain": [
              "-4"
            ]
          },
          "metadata": {},
          "execution_count": 6
        }
      ]
    },
    {
      "cell_type": "code",
      "source": [
        "(-2)**2"
      ],
      "metadata": {
        "colab": {
          "base_uri": "https://localhost:8080/"
        },
        "id": "Lu95B487nO0I",
        "outputId": "b648c6c1-d9e7-4d87-e89e-a1afaa7938d4"
      },
      "execution_count": 7,
      "outputs": [
        {
          "output_type": "execute_result",
          "data": {
            "text/plain": [
              "4"
            ]
          },
          "metadata": {},
          "execution_count": 7
        }
      ]
    },
    {
      "cell_type": "code",
      "source": [
        "#Si realizas operaciones con numeros escalares, no arreglos o vectores, entonces puedes utilizar la libreria math. "
      ],
      "metadata": {
        "id": "ASdpLt30oLGE"
      },
      "execution_count": 11,
      "outputs": []
    },
    {
      "cell_type": "code",
      "source": [
        "math.exp(math.log(1))"
      ],
      "metadata": {
        "colab": {
          "base_uri": "https://localhost:8080/"
        },
        "id": "HlVfbgO_nR4S",
        "outputId": "8e588b38-fbe9-49ee-9aff-7942afd1f92a"
      },
      "execution_count": 10,
      "outputs": [
        {
          "output_type": "execute_result",
          "data": {
            "text/plain": [
              "1.0"
            ]
          },
          "metadata": {},
          "execution_count": 10
        }
      ]
    },
    {
      "cell_type": "code",
      "source": [
        "math.cos(math.pi)"
      ],
      "metadata": {
        "colab": {
          "base_uri": "https://localhost:8080/"
        },
        "id": "MeGzBhJioGCU",
        "outputId": "f413670f-b9d9-4b26-c22b-9aef68997e55"
      },
      "execution_count": 12,
      "outputs": [
        {
          "output_type": "execute_result",
          "data": {
            "text/plain": [
              "-1.0"
            ]
          },
          "metadata": {},
          "execution_count": 12
        }
      ]
    },
    {
      "cell_type": "code",
      "source": [],
      "metadata": {
        "id": "xceKxoC7ohDb"
      },
      "execution_count": null,
      "outputs": []
    },
    {
      "cell_type": "markdown",
      "source": [
        "A diferencia de otros lenguajes de programación, la declaración de variables se puede hacer en cualquier celda, y solo se requiere asignar un valor a una variable para que ésta quede definida."
      ],
      "metadata": {
        "id": "MGSh1V5dosr2"
      }
    },
    {
      "cell_type": "code",
      "source": [
        "a=5\n",
        "b=3\n",
        "c=a*b\n",
        "print(c)"
      ],
      "metadata": {
        "colab": {
          "base_uri": "https://localhost:8080/"
        },
        "id": "mj1ijLAyo6Ca",
        "outputId": "836e3c3b-d306-49ff-85bb-b164c1a7bb88"
      },
      "execution_count": 20,
      "outputs": [
        {
          "output_type": "stream",
          "name": "stdout",
          "text": [
            "15\n"
          ]
        }
      ]
    },
    {
      "cell_type": "code",
      "source": [
        "#verifiquemos el tipo de variable que se definió\n",
        "type(a),type(b),type(c)"
      ],
      "metadata": {
        "colab": {
          "base_uri": "https://localhost:8080/"
        },
        "id": "jNQtQZd2o-jH",
        "outputId": "dd0c2610-194d-4d4e-dfe8-475ea28754b5"
      },
      "execution_count": 21,
      "outputs": [
        {
          "output_type": "execute_result",
          "data": {
            "text/plain": [
              "(int, int, int)"
            ]
          },
          "metadata": {},
          "execution_count": 21
        }
      ]
    },
    {
      "cell_type": "code",
      "source": [
        "#Si, uno de los numeros es flotante, la operación resultante será flotante\n",
        "\n",
        "a=5.\n",
        "b=3\n",
        "c=a*b\n",
        "type(a),type(b),type(c)"
      ],
      "metadata": {
        "colab": {
          "base_uri": "https://localhost:8080/"
        },
        "id": "6b_tosdbo-8n",
        "outputId": "5500a5a5-ab59-441c-a0e5-376572a7c58c"
      },
      "execution_count": 26,
      "outputs": [
        {
          "output_type": "execute_result",
          "data": {
            "text/plain": [
              "(float, int, float)"
            ]
          },
          "metadata": {},
          "execution_count": 26
        }
      ]
    },
    {
      "cell_type": "code",
      "source": [
        "#La división siempre devuelve un flotante\n",
        "a=5\n",
        "b=3\n",
        "c=a/b\n",
        "type(a),type(b),type(c)"
      ],
      "metadata": {
        "colab": {
          "base_uri": "https://localhost:8080/"
        },
        "id": "Yr6MaMz1pWi7",
        "outputId": "8677683a-7e3b-4a15-b736-427b29a43e31"
      },
      "execution_count": 31,
      "outputs": [
        {
          "output_type": "execute_result",
          "data": {
            "text/plain": [
              "(int, int, float)"
            ]
          },
          "metadata": {},
          "execution_count": 31
        }
      ]
    },
    {
      "cell_type": "code",
      "source": [
        "a//b #división descartando la parte fraccional"
      ],
      "metadata": {
        "colab": {
          "base_uri": "https://localhost:8080/"
        },
        "id": "RFj_lkr4qsZa",
        "outputId": "d1a3c001-5eec-4152-cb9c-38083d0a76d9"
      },
      "execution_count": 33,
      "outputs": [
        {
          "output_type": "execute_result",
          "data": {
            "text/plain": [
              "1"
            ]
          },
          "metadata": {},
          "execution_count": 33
        }
      ]
    },
    {
      "cell_type": "code",
      "source": [
        "8%3 # El operador % regresa el restante de la división"
      ],
      "metadata": {
        "colab": {
          "base_uri": "https://localhost:8080/"
        },
        "id": "y95fqNqLq2zx",
        "outputId": "7145d339-c437-402a-a845-190495c892bb"
      },
      "execution_count": 39,
      "outputs": [
        {
          "output_type": "execute_result",
          "data": {
            "text/plain": [
              "2"
            ]
          },
          "metadata": {},
          "execution_count": 39
        }
      ]
    },
    {
      "cell_type": "code",
      "source": [
        "#cuando una variable no está definida e intentamos usarla, nos arroja un error que dice que \"la variable no está definida\"\n",
        "n"
      ],
      "metadata": {
        "colab": {
          "base_uri": "https://localhost:8080/",
          "height": 181
        },
        "id": "qc5yrgvKujqN",
        "outputId": "7d716813-0fe5-4b5e-8a0b-273cb5c1b43f"
      },
      "execution_count": 41,
      "outputs": [
        {
          "output_type": "error",
          "ename": "NameError",
          "evalue": "ignored",
          "traceback": [
            "\u001b[0;31m---------------------------------------------------------------------------\u001b[0m",
            "\u001b[0;31mNameError\u001b[0m                                 Traceback (most recent call last)",
            "\u001b[0;32m<ipython-input-41-5bca04af08ee>\u001b[0m in \u001b[0;36m<module>\u001b[0;34m\u001b[0m\n\u001b[1;32m      1\u001b[0m \u001b[0;31m#cuando una variable no está definida e intentamos usarla, nos arroja un error que dice que \"la variable no está definida\"\u001b[0m\u001b[0;34m\u001b[0m\u001b[0;34m\u001b[0m\u001b[0;34m\u001b[0m\u001b[0m\n\u001b[0;32m----> 2\u001b[0;31m \u001b[0mn\u001b[0m\u001b[0;34m\u001b[0m\u001b[0;34m\u001b[0m\u001b[0m\n\u001b[0m",
            "\u001b[0;31mNameError\u001b[0m: name 'n' is not defined"
          ]
        }
      ]
    },
    {
      "cell_type": "markdown",
      "source": [
        "# Listas"
      ],
      "metadata": {
        "id": "Y81mp8mAxBtI"
      }
    },
    {
      "cell_type": "markdown",
      "source": [
        "Las listas pueden contener elementos de diferentes tipos, aunque tipicamente contienen elementos del mismo tipo"
      ],
      "metadata": {
        "id": "PopsWx0oxUSy"
      }
    },
    {
      "cell_type": "code",
      "source": [
        "mixta= [1,'texto', 3.0,math.pi]"
      ],
      "metadata": {
        "id": "QDtBRBn3xyY-"
      },
      "execution_count": 43,
      "outputs": []
    },
    {
      "cell_type": "code",
      "source": [
        "cuadrados= [1, 4, 9, 16, 25]"
      ],
      "metadata": {
        "id": "ablOw3TDxk8e"
      },
      "execution_count": 44,
      "outputs": []
    },
    {
      "cell_type": "code",
      "source": [
        "#Podemos acceder a cada elemento con su indice, los indices inician en cero. \n",
        "print(cuadrados[0])\n",
        "print(cuadrados[4])\n",
        "print(cuadrados[-2],cuadrados[3]) "
      ],
      "metadata": {
        "colab": {
          "base_uri": "https://localhost:8080/"
        },
        "id": "-PqeM1dMx4If",
        "outputId": "181b193a-d061-40c8-de1d-74d7d39ff128"
      },
      "execution_count": 52,
      "outputs": [
        {
          "output_type": "stream",
          "name": "stdout",
          "text": [
            "1\n",
            "25\n",
            "16 16\n"
          ]
        }
      ]
    },
    {
      "cell_type": "code",
      "source": [
        "#Dos cadenas pueden concatenarse\n",
        "cuadrados + [36, 49, 64, 81, 100]"
      ],
      "metadata": {
        "colab": {
          "base_uri": "https://localhost:8080/"
        },
        "id": "aXneZGNTyVyd",
        "outputId": "e4ff7adf-ee39-464d-829d-04a0c757d657"
      },
      "execution_count": 53,
      "outputs": [
        {
          "output_type": "execute_result",
          "data": {
            "text/plain": [
              "[1, 4, 9, 16, 25, 36, 49, 64, 81, 100]"
            ]
          },
          "metadata": {},
          "execution_count": 53
        }
      ]
    },
    {
      "cell_type": "code",
      "source": [
        "#Podemos modificar cada elemento de la lista de forma independiente\n",
        "cubos = [1, 8, 27, 65, 125]\n",
        "cubos[3]=4**3\n",
        "cubos "
      ],
      "metadata": {
        "colab": {
          "base_uri": "https://localhost:8080/"
        },
        "id": "ca0OnzNiyBhe",
        "outputId": "d5b8c00a-41f9-4baf-e7a9-ea8ce264f70b"
      },
      "execution_count": 64,
      "outputs": [
        {
          "output_type": "execute_result",
          "data": {
            "text/plain": [
              "[1, 8, 27, 64, 125]"
            ]
          },
          "metadata": {},
          "execution_count": 64
        }
      ]
    },
    {
      "cell_type": "code",
      "source": [
        "#Podemos añadir nuevos elementos a la lista\n",
        "cubos.append(6**3)\n",
        "cubos"
      ],
      "metadata": {
        "colab": {
          "base_uri": "https://localhost:8080/"
        },
        "id": "DyOV7nDkyv4U",
        "outputId": "0eae6b64-413b-4d15-8c37-b39e46318240"
      },
      "execution_count": 65,
      "outputs": [
        {
          "output_type": "execute_result",
          "data": {
            "text/plain": [
              "[1, 8, 27, 64, 125, 216]"
            ]
          },
          "metadata": {},
          "execution_count": 65
        }
      ]
    },
    {
      "cell_type": "code",
      "source": [
        "#Podemos accesar y/o modificar la lista por secciones \n",
        "letras = ['a', 'b', 'c', 'd', 'e', 'f', 'g']\n",
        "letras\n"
      ],
      "metadata": {
        "colab": {
          "base_uri": "https://localhost:8080/"
        },
        "id": "JbGYSMEty8QR",
        "outputId": "e3519bd0-8826-495d-9397-3f172603c71f"
      },
      "execution_count": 66,
      "outputs": [
        {
          "output_type": "execute_result",
          "data": {
            "text/plain": [
              "['a', 'b', 'c', 'd', 'e', 'f', 'g']"
            ]
          },
          "metadata": {},
          "execution_count": 66
        }
      ]
    },
    {
      "cell_type": "code",
      "source": [
        "letras[2:5] = ['C', 'D', 'E']\n",
        "letras"
      ],
      "metadata": {
        "colab": {
          "base_uri": "https://localhost:8080/"
        },
        "id": "uqdib-Z3zJgv",
        "outputId": "05a477fa-e447-4c2a-bef0-90805da44e5e"
      },
      "execution_count": 67,
      "outputs": [
        {
          "output_type": "execute_result",
          "data": {
            "text/plain": [
              "['a', 'b', 'C', 'D', 'E', 'f', 'g']"
            ]
          },
          "metadata": {},
          "execution_count": 67
        }
      ]
    },
    {
      "cell_type": "code",
      "source": [
        "#¿Cuantos elementos tiene la lista?\n",
        "len(letras)"
      ],
      "metadata": {
        "colab": {
          "base_uri": "https://localhost:8080/"
        },
        "id": "RRDuSGUMzPiN",
        "outputId": "e05abb62-ea7d-4d6b-a3fd-f7518efdbe09"
      },
      "execution_count": 68,
      "outputs": [
        {
          "output_type": "execute_result",
          "data": {
            "text/plain": [
              "7"
            ]
          },
          "metadata": {},
          "execution_count": 68
        }
      ]
    },
    {
      "cell_type": "code",
      "source": [
        "#Es posible tener listas que contienen otras listas\n",
        "lista=[cuadrados,cubos]\n",
        "lista"
      ],
      "metadata": {
        "colab": {
          "base_uri": "https://localhost:8080/"
        },
        "id": "d8X4PJwOzWpQ",
        "outputId": "4578d2a0-47c6-4059-f48f-669d6cdb74f0"
      },
      "execution_count": 69,
      "outputs": [
        {
          "output_type": "execute_result",
          "data": {
            "text/plain": [
              "[[1, 4, 9, 16, 25], [1, 8, 27, 64, 125, 216]]"
            ]
          },
          "metadata": {},
          "execution_count": 69
        }
      ]
    },
    {
      "cell_type": "code",
      "source": [],
      "metadata": {
        "id": "FkYtn8-1zhAS"
      },
      "execution_count": 69,
      "outputs": []
    },
    {
      "cell_type": "markdown",
      "source": [
        "# Funciones de Control"
      ],
      "metadata": {
        "id": "at6U19ABzt-t"
      }
    },
    {
      "cell_type": "markdown",
      "source": [
        "### Ciclo While"
      ],
      "metadata": {
        "id": "EZUGrStb0cQN"
      }
    },
    {
      "cell_type": "code",
      "source": [
        "a, b = 0, 1\n",
        "while a < 10:\n",
        "  print('a=',a,'b=',b)\n",
        "  a, b = b, a+b"
      ],
      "metadata": {
        "colab": {
          "base_uri": "https://localhost:8080/"
        },
        "id": "jOlRiYykz57y",
        "outputId": "e2031c6d-2915-4930-92d5-050e6926e9bc"
      },
      "execution_count": 73,
      "outputs": [
        {
          "output_type": "stream",
          "name": "stdout",
          "text": [
            "a= 0 b= 1\n",
            "a= 1 b= 1\n",
            "a= 1 b= 2\n",
            "a= 2 b= 3\n",
            "a= 3 b= 5\n",
            "a= 5 b= 8\n",
            "a= 8 b= 13\n"
          ]
        }
      ]
    },
    {
      "cell_type": "code",
      "source": [
        "#Otra forma de imprimir los valores de a y b\n",
        "a, b = 0, 1\n",
        "while a < 10:\n",
        "  print(f'a={a} b={b}')\n",
        "  a, b = b, a+b"
      ],
      "metadata": {
        "colab": {
          "base_uri": "https://localhost:8080/"
        },
        "id": "KH8UFdBv0AE0",
        "outputId": "28ddf37c-2ddf-4eca-b819-a41cb86d2c59"
      },
      "execution_count": 75,
      "outputs": [
        {
          "output_type": "stream",
          "name": "stdout",
          "text": [
            "a=0 b=1\n",
            "a=1 b=1\n",
            "a=1 b=2\n",
            "a=2 b=3\n",
            "a=3 b=5\n",
            "a=5 b=8\n",
            "a=8 b=13\n"
          ]
        }
      ]
    },
    {
      "cell_type": "markdown",
      "source": [
        "### Ciclo for"
      ],
      "metadata": {
        "id": "wERzS_f41Fym"
      }
    },
    {
      "cell_type": "code",
      "source": [
        "words = ['gato', 'ventana', 'entusiasmo']\n",
        "for w in words:\n",
        "  print(w, len(w))"
      ],
      "metadata": {
        "colab": {
          "base_uri": "https://localhost:8080/"
        },
        "id": "FmEol0nj0SV4",
        "outputId": "a7945056-9d9a-4811-f1c3-40f9beb7b878"
      },
      "execution_count": 90,
      "outputs": [
        {
          "output_type": "stream",
          "name": "stdout",
          "text": [
            "gato 4\n",
            "ventana 7\n",
            "entusiasmo 10\n"
          ]
        }
      ]
    },
    {
      "cell_type": "code",
      "source": [
        "for i in range(5):\n",
        "  print(i)"
      ],
      "metadata": {
        "colab": {
          "base_uri": "https://localhost:8080/"
        },
        "id": "iik3AgHy8kqM",
        "outputId": "529efdd3-538e-4e99-9012-53d1eae92768"
      },
      "execution_count": 98,
      "outputs": [
        {
          "output_type": "stream",
          "name": "stdout",
          "text": [
            "0\n",
            "1\n",
            "2\n",
            "3\n",
            "4\n"
          ]
        }
      ]
    },
    {
      "cell_type": "code",
      "source": [
        "for i in range(len(words)):\n",
        "  print(i,words[i])"
      ],
      "metadata": {
        "colab": {
          "base_uri": "https://localhost:8080/"
        },
        "id": "4hB4bAEa8qS9",
        "outputId": "1c982ffa-f8fa-415d-fd6e-42185469ef05"
      },
      "execution_count": 99,
      "outputs": [
        {
          "output_type": "stream",
          "name": "stdout",
          "text": [
            "0 gato\n",
            "1 ventana\n",
            "2 entusiasmo\n"
          ]
        }
      ]
    },
    {
      "cell_type": "code",
      "source": [
        "for i,w in enumerate(words):\n",
        "  print(i,w)"
      ],
      "metadata": {
        "colab": {
          "base_uri": "https://localhost:8080/"
        },
        "id": "7eGW4G2u2rPh",
        "outputId": "1872f51d-af3d-4775-944d-7c0b08f86c83"
      },
      "execution_count": 100,
      "outputs": [
        {
          "output_type": "stream",
          "name": "stdout",
          "text": [
            "0 gato\n",
            "1 ventana\n",
            "2 entusiasmo\n"
          ]
        }
      ]
    },
    {
      "cell_type": "markdown",
      "source": [],
      "metadata": {
        "id": "uJfO9g5k8ofr"
      }
    },
    {
      "cell_type": "markdown",
      "source": [
        "## Condicional if, else"
      ],
      "metadata": {
        "id": "pJswVyXG3HOe"
      }
    },
    {
      "cell_type": "code",
      "source": [
        "x = -34\n",
        "\n",
        "if x < 0:\n",
        "  x = 0\n",
        "  print('Numero negativo cambiado a cero')\n",
        "elif x == 0:\n",
        "  print('cero')\n",
        "elif x == 1:\n",
        "  print('Uno')\n",
        "else:\n",
        "    print('numero positivo')\n"
      ],
      "metadata": {
        "colab": {
          "base_uri": "https://localhost:8080/"
        },
        "id": "oGKLsbZy7xEv",
        "outputId": "7b67a3ee-af88-4cf8-cd89-88a479b1ffae"
      },
      "execution_count": 97,
      "outputs": [
        {
          "output_type": "stream",
          "name": "stdout",
          "text": [
            "Numero negativo cambiado a cero\n"
          ]
        }
      ]
    },
    {
      "cell_type": "code",
      "source": [
        "#Para este ejemplo crearemos un diccionario \n",
        "alumnos = {'Alma': 'activa', 'Juan': 'inactivo', 'Pedro': 'activa'}\n",
        "for alumno, estatus in alumnos.copy().items():\n",
        "    if estatus == 'inactivo':\n",
        "        del alumnos[alumno]"
      ],
      "metadata": {
        "id": "8qBdbjSW1Ogt"
      },
      "execution_count": 87,
      "outputs": []
    },
    {
      "cell_type": "code",
      "source": [
        "alumnos"
      ],
      "metadata": {
        "colab": {
          "base_uri": "https://localhost:8080/"
        },
        "id": "akQV-Zan2JXL",
        "outputId": "25d9afc3-944d-412e-f106-15384d2348b3"
      },
      "execution_count": 88,
      "outputs": [
        {
          "output_type": "execute_result",
          "data": {
            "text/plain": [
              "{'Alma': 'activa', 'Pedro': 'activa'}"
            ]
          },
          "metadata": {},
          "execution_count": 88
        }
      ]
    },
    {
      "cell_type": "code",
      "source": [
        "for n in range(2, 10):\n",
        "  for x in range(2, n):\n",
        "    if n % x == 0:\n",
        "      print(n, 'es igual a ', x, '*', n//x)\n",
        "      break\n",
        "  else:         #Este else corresponde al ciclo for, no al if... es una forma de decir lo que se debe hacer cuando se rompe el ciclo... \n",
        "    print(n, 'es primo')\n",
        "     "
      ],
      "metadata": {
        "colab": {
          "base_uri": "https://localhost:8080/"
        },
        "id": "5tvua9uF2Np6",
        "outputId": "5a9ff706-2330-480c-ef8e-df76487f04d3"
      },
      "execution_count": 109,
      "outputs": [
        {
          "output_type": "stream",
          "name": "stdout",
          "text": [
            "2 es primo\n",
            "3 es primo\n",
            "4 es igual a  2 * 2\n",
            "5 es primo\n",
            "6 es igual a  2 * 3\n",
            "7 es primo\n",
            "8 es igual a  2 * 4\n",
            "9 es igual a  3 * 3\n"
          ]
        }
      ]
    },
    {
      "cell_type": "code",
      "source": [
        "for num in range(2, 10):\n",
        "  if num % 2 == 0:\n",
        "    print(f\"{num} es par\")\n",
        "    continue\n",
        "    \n",
        "  print(f\"{num} es impar\")"
      ],
      "metadata": {
        "colab": {
          "base_uri": "https://localhost:8080/"
        },
        "id": "nCarBNQQ9VhU",
        "outputId": "8d75fdc6-a930-496e-a52a-b2bab68f3a6c"
      },
      "execution_count": 110,
      "outputs": [
        {
          "output_type": "stream",
          "name": "stdout",
          "text": [
            "2 es par\n",
            "3 es impar\n",
            "4 es par\n",
            "5 es impar\n",
            "6 es par\n",
            "7 es impar\n",
            "8 es par\n",
            "9 es impar\n"
          ]
        }
      ]
    },
    {
      "cell_type": "code",
      "source": [],
      "metadata": {
        "id": "08LrMlNW-whG"
      },
      "execution_count": null,
      "outputs": []
    },
    {
      "cell_type": "markdown",
      "source": [
        "# Defininendo  Funciones"
      ],
      "metadata": {
        "id": "5Xs0d_x7_e1E"
      }
    },
    {
      "cell_type": "code",
      "source": [],
      "metadata": {
        "id": "dfd9JCDx_h-z"
      },
      "execution_count": null,
      "outputs": []
    }
  ]
}