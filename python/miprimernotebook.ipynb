{
 "cells": [
  {
   "cell_type": "code",
   "execution_count": 1,
   "id": "155d6686-1989-4852-9103-eddc8997260c",
   "metadata": {},
   "outputs": [
    {
     "data": {
      "text/plain": [
       "7"
      ]
     },
     "execution_count": 1,
     "metadata": {},
     "output_type": "execute_result"
    }
   ],
   "source": [
    "2+5"
   ]
  },
  {
   "cell_type": "markdown",
   "id": "11ec7cfa-c721-451f-9169-b9905b4bf82a",
   "metadata": {},
   "source": [
    "Esta es una celda de texto con una ecuación : $y=x^2$"
   ]
  },
  {
   "cell_type": "raw",
   "id": "93db651d-82ab-46f3-b35e-5556cf385ef4",
   "metadata": {},
   "source": [
    "4*3"
   ]
  },
  {
   "cell_type": "code",
   "execution_count": 7,
   "id": "cec043c6-1d44-40d5-956a-c58c633e12bb",
   "metadata": {},
   "outputs": [],
   "source": [
    "a=5.0"
   ]
  },
  {
   "cell_type": "code",
   "execution_count": 9,
   "id": "0a371a1f-0a12-4fd3-a03b-f31ea473c775",
   "metadata": {},
   "outputs": [],
   "source": [
    "b=4.0"
   ]
  },
  {
   "cell_type": "code",
   "execution_count": 12,
   "id": "0aee0ff5-b3f7-4ef0-8bc5-1c86bc380211",
   "metadata": {},
   "outputs": [
    {
     "data": {
      "text/plain": [
       "(9.0, 20.0, 1.25, 1.0)"
      ]
     },
     "execution_count": 12,
     "metadata": {},
     "output_type": "execute_result"
    }
   ],
   "source": [
    "a+b, a*b, a/b,a%b"
   ]
  },
  {
   "cell_type": "code",
   "execution_count": 13,
   "id": "691d41c4-e75c-4958-9d76-23092638afe9",
   "metadata": {},
   "outputs": [],
   "source": [
    "c=a*b"
   ]
  },
  {
   "cell_type": "code",
   "execution_count": 15,
   "id": "6ba637c8-e487-49cf-9676-2dcd71953ec2",
   "metadata": {},
   "outputs": [
    {
     "name": "stdout",
     "output_type": "stream",
     "text": [
      "25.0\n"
     ]
    }
   ],
   "source": [
    "print(a+b*a)"
   ]
  },
  {
   "cell_type": "code",
   "execution_count": 16,
   "id": "cc93933b-c372-48b1-9ae1-4f117822021e",
   "metadata": {},
   "outputs": [
    {
     "name": "stdout",
     "output_type": "stream",
     "text": [
      "45.0\n"
     ]
    }
   ],
   "source": [
    "print((a+b)*a)"
   ]
  },
  {
   "cell_type": "code",
   "execution_count": 26,
   "id": "549001fa-49db-4ee4-87bf-c0bfdf8bcbf7",
   "metadata": {},
   "outputs": [],
   "source": [
    "lista=[0.,1,2,3,4,5]"
   ]
  },
  {
   "cell_type": "code",
   "execution_count": 27,
   "id": "ebd5e6ba-c7f8-4f1a-8df2-0f0b81300e2b",
   "metadata": {},
   "outputs": [
    {
     "data": {
      "text/plain": [
       "[0.0, 1, 2, 3, 4, 5, 0.0, 1, 2, 3, 4, 5]"
      ]
     },
     "execution_count": 27,
     "metadata": {},
     "output_type": "execute_result"
    }
   ],
   "source": [
    "lista*2"
   ]
  },
  {
   "cell_type": "code",
   "execution_count": 33,
   "id": "ec1a2457-649f-4e39-be39-9751e5fa9de1",
   "metadata": {},
   "outputs": [],
   "source": [
    "lista2=[\"nombre\",\"edad\"]"
   ]
  },
  {
   "cell_type": "code",
   "execution_count": 34,
   "id": "ea2d1188-ce0c-403c-8ee8-c06040bc7e9d",
   "metadata": {},
   "outputs": [
    {
     "data": {
      "text/plain": [
       "'nombre'"
      ]
     },
     "execution_count": 34,
     "metadata": {},
     "output_type": "execute_result"
    }
   ],
   "source": [
    "lista2[0]"
   ]
  },
  {
   "cell_type": "code",
   "execution_count": 35,
   "id": "0ab5dddc-8c5b-49e0-bd9b-bb03c6170eb4",
   "metadata": {},
   "outputs": [],
   "source": [
    "import numpy as np"
   ]
  },
  {
   "cell_type": "code",
   "execution_count": 49,
   "id": "136fd71b-2d9e-44d3-a6db-d8b0f1169a9d",
   "metadata": {},
   "outputs": [],
   "source": [
    "a=np.zeros(10)\n",
    "b=np.ones(10)\n",
    "c=np.linspace(-10,10,10)\n",
    "d=np.arange(-10,10,0.15)"
   ]
  },
  {
   "cell_type": "code",
   "execution_count": 51,
   "id": "cad711f3-3cb0-434e-a683-4143277580ef",
   "metadata": {},
   "outputs": [],
   "source": [
    "x=np.arange(-np.pi,np.pi,0.01)"
   ]
  },
  {
   "cell_type": "code",
   "execution_count": 48,
   "id": "d57b7a08-e955-47b9-9306-9789ec2ae9d4",
   "metadata": {},
   "outputs": [
    {
     "data": {
      "text/plain": [
       "array([-10.        ,  -7.77777778,  -5.55555556,  -3.33333333,\n",
       "        -1.11111111,   1.11111111,   3.33333333,   5.55555556,\n",
       "         7.77777778,  10.        ])"
      ]
     },
     "execution_count": 48,
     "metadata": {},
     "output_type": "execute_result"
    }
   ],
   "source": [
    "c"
   ]
  },
  {
   "cell_type": "code",
   "execution_count": 50,
   "id": "c6222d09-9d14-4141-99f1-173aaff666ef",
   "metadata": {},
   "outputs": [
    {
     "data": {
      "text/plain": [
       "array([-10.  ,  -9.85,  -9.7 ,  -9.55,  -9.4 ,  -9.25,  -9.1 ,  -8.95,\n",
       "        -8.8 ,  -8.65,  -8.5 ,  -8.35,  -8.2 ,  -8.05,  -7.9 ,  -7.75,\n",
       "        -7.6 ,  -7.45,  -7.3 ,  -7.15,  -7.  ,  -6.85,  -6.7 ,  -6.55,\n",
       "        -6.4 ,  -6.25,  -6.1 ,  -5.95,  -5.8 ,  -5.65,  -5.5 ,  -5.35,\n",
       "        -5.2 ,  -5.05,  -4.9 ,  -4.75,  -4.6 ,  -4.45,  -4.3 ,  -4.15,\n",
       "        -4.  ,  -3.85,  -3.7 ,  -3.55,  -3.4 ,  -3.25,  -3.1 ,  -2.95,\n",
       "        -2.8 ,  -2.65,  -2.5 ,  -2.35,  -2.2 ,  -2.05,  -1.9 ,  -1.75,\n",
       "        -1.6 ,  -1.45,  -1.3 ,  -1.15,  -1.  ,  -0.85,  -0.7 ,  -0.55,\n",
       "        -0.4 ,  -0.25,  -0.1 ,   0.05,   0.2 ,   0.35,   0.5 ,   0.65,\n",
       "         0.8 ,   0.95,   1.1 ,   1.25,   1.4 ,   1.55,   1.7 ,   1.85,\n",
       "         2.  ,   2.15,   2.3 ,   2.45,   2.6 ,   2.75,   2.9 ,   3.05,\n",
       "         3.2 ,   3.35,   3.5 ,   3.65,   3.8 ,   3.95,   4.1 ,   4.25,\n",
       "         4.4 ,   4.55,   4.7 ,   4.85,   5.  ,   5.15,   5.3 ,   5.45,\n",
       "         5.6 ,   5.75,   5.9 ,   6.05,   6.2 ,   6.35,   6.5 ,   6.65,\n",
       "         6.8 ,   6.95,   7.1 ,   7.25,   7.4 ,   7.55,   7.7 ,   7.85,\n",
       "         8.  ,   8.15,   8.3 ,   8.45,   8.6 ,   8.75,   8.9 ,   9.05,\n",
       "         9.2 ,   9.35,   9.5 ,   9.65,   9.8 ,   9.95])"
      ]
     },
     "execution_count": 50,
     "metadata": {},
     "output_type": "execute_result"
    }
   ],
   "source": [
    "d"
   ]
  },
  {
   "cell_type": "code",
   "execution_count": 46,
   "id": "77ffc31c-d7f4-4af2-972a-cd8d0dab911d",
   "metadata": {},
   "outputs": [
    {
     "data": {
      "text/plain": [
       "array([1., 1., 1., 1., 1., 1., 1., 1., 1., 1.])"
      ]
     },
     "execution_count": 46,
     "metadata": {},
     "output_type": "execute_result"
    }
   ],
   "source": [
    "a+b"
   ]
  },
  {
   "cell_type": "code",
   "execution_count": 40,
   "id": "d37a17b5-9546-4591-bcd8-7762ce9e1ace",
   "metadata": {},
   "outputs": [
    {
     "data": {
      "text/plain": [
       "array([2., 2., 2., 2., 2., 2., 2., 2., 2., 2.])"
      ]
     },
     "execution_count": 40,
     "metadata": {},
     "output_type": "execute_result"
    }
   ],
   "source": [
    "a+2"
   ]
  },
  {
   "cell_type": "code",
   "execution_count": 54,
   "id": "8fa5a6ff-b816-48ad-a6bd-03e07aa4cb5e",
   "metadata": {},
   "outputs": [],
   "source": [
    "import matplotlib.pyplot as plt"
   ]
  },
  {
   "cell_type": "code",
   "execution_count": 56,
   "id": "5245a447-f255-4ba3-85da-5fdfecd0aea3",
   "metadata": {},
   "outputs": [
    {
     "data": {
      "text/plain": [
       "[<matplotlib.lines.Line2D at 0x126722170>]"
      ]
     },
     "execution_count": 56,
     "metadata": {},
     "output_type": "execute_result"
    },
    {
     "data": {
      "image/png": "[encoded data removed]",
      "text/plain": [
       "<Figure size 432x288 with 1 Axes>"
      ]
     },
     "metadata": {
      "needs_background": "light"
     },
     "output_type": "display_data"
    }
   ],
   "source": [
    "x=np.arange(-2*np.pi,2*np.pi,0.01)\n",
    "y=np.cos(x)\n",
    "plt.plot(x,y)"
   ]
  },
  {
   "cell_type": "code",
   "execution_count": null,
   "id": "652d8844-64af-4221-ac24-702ee6753d2c",
   "metadata": {},
   "outputs": [],
   "source": []
  }
 ],
 "metadata": {
  "kernelspec": {
   "display_name": "Python 3 (ipykernel)",
   "language": "python",
   "name": "python3"
  },
  "language_info": {
   "codemirror_mode": {
    "name": "ipython",
    "version": 3
   },
   "file_extension": ".py",
   "mimetype": "text/x-python",
   "name": "python",
   "nbconvert_exporter": "python",
   "pygments_lexer": "ipython3",
   "version": "3.10.4"
  }
 },
 "nbformat": 4,
 "nbformat_minor": 5
}
